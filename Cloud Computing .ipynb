{
 "cells": [
  {
   "cell_type": "markdown",
   "id": "50b42fc2",
   "metadata": {},
   "source": [
    "# Project 1.) First Cloud Function"
   ]
  },
  {
   "cell_type": "markdown",
   "id": "e047b110",
   "metadata": {},
   "source": [
    "### Description : Post a cloud function that takes in a string of numbers and returns a json file that contains the the sum of all of the single digit numbers"
   ]
  },
  {
   "cell_type": "markdown",
   "id": "187f1ddd",
   "metadata": {},
   "source": [
    "#### Example : input =\"12345\"\n",
    "#### output = 1+2+3+4+5 = 15\n",
    "#### returns({\"answer\":15})"
   ]
  },
  {
   "cell_type": "code",
   "execution_count": 1,
   "id": "7591a6e4",
   "metadata": {},
   "outputs": [],
   "source": [
    "def sum_num(string):\n",
    "    output = 0\n",
    "    for char in string:\n",
    "        output += int(char)\n",
    "    return ({\"answer\":output})"
   ]
  },
  {
   "cell_type": "code",
   "execution_count": 2,
   "id": "00332b33",
   "metadata": {},
   "outputs": [
    {
     "data": {
      "text/plain": [
       "{'answer': 15}"
      ]
     },
     "execution_count": 2,
     "metadata": {},
     "output_type": "execute_result"
    }
   ],
   "source": [
    "string = \"12345\"\n",
    "result = sum_num(string)\n",
    "result"
   ]
  },
  {
   "cell_type": "code",
   "execution_count": 1,
   "id": "fe88afa2",
   "metadata": {},
   "outputs": [],
   "source": [
    "import requests\n",
    "import json"
   ]
  },
  {
   "cell_type": "code",
   "execution_count": 2,
   "id": "85c67f10",
   "metadata": {},
   "outputs": [],
   "source": [
    "string = \"12345\"\n",
    "url = \"https://us-central1-cloud-automation-424717.cloudfunctions.net/Q1\"\n",
    "data = {\"i\": string}\n",
    "headers = {'Content-Type': 'application/json'}\n",
    "\n",
    "response = requests.post(url, headers=headers, data=json.dumps(data))\n"
   ]
  },
  {
   "cell_type": "code",
   "execution_count": 3,
   "id": "b90ae1e1",
   "metadata": {},
   "outputs": [
    {
     "data": {
      "text/plain": [
       "{'answer': 15}"
      ]
     },
     "execution_count": 3,
     "metadata": {},
     "output_type": "execute_result"
    }
   ],
   "source": [
    "response.json()"
   ]
  },
  {
   "cell_type": "markdown",
   "id": "419394c4",
   "metadata": {},
   "source": [
    "## 1.b.) Query your cloud function using requests for example input \"012937\", \"2\" and \"9999999999999\""
   ]
  },
  {
   "cell_type": "code",
   "execution_count": 4,
   "id": "1e139200",
   "metadata": {},
   "outputs": [
    {
     "data": {
      "text/plain": [
       "{'answer': 22}"
      ]
     },
     "execution_count": 4,
     "metadata": {},
     "output_type": "execute_result"
    }
   ],
   "source": [
    "string1 = \"012937\"\n",
    "data1 = {\"i\": string1}\n",
    "response = requests.post(url, headers=headers, data=json.dumps(data1))\n",
    "response.json()"
   ]
  },
  {
   "cell_type": "code",
   "execution_count": 5,
   "id": "63fc9a39",
   "metadata": {},
   "outputs": [
    {
     "data": {
      "text/plain": [
       "{'answer': 2}"
      ]
     },
     "execution_count": 5,
     "metadata": {},
     "output_type": "execute_result"
    }
   ],
   "source": [
    "string2 = \"2\"\n",
    "data2 = {\"i\": string2}\n",
    "response = requests.post(url, headers=headers, data=json.dumps(data2))\n",
    "response.json()"
   ]
  },
  {
   "cell_type": "code",
   "execution_count": 6,
   "id": "db1eda9d",
   "metadata": {},
   "outputs": [
    {
     "data": {
      "text/plain": [
       "{'answer': 117}"
      ]
     },
     "execution_count": 6,
     "metadata": {},
     "output_type": "execute_result"
    }
   ],
   "source": [
    "string3 = \"9999999999999\"\n",
    "data3 = {\"i\": string3}\n",
    "response = requests.post(url, headers=headers, data=json.dumps(data3))\n",
    "response.json()"
   ]
  },
  {
   "cell_type": "markdown",
   "id": "93a38f37-f894-41d1-b072-0be55dacc7a7",
   "metadata": {},
   "source": [
    "# 1.c.) Add srborghese@g.ucla.edu to your cloud project via IAM."
   ]
  },
  {
   "cell_type": "markdown",
   "id": "15b392e5",
   "metadata": {},
   "source": [
    "Added"
   ]
  },
  {
   "cell_type": "markdown",
   "id": "97a4a8bd",
   "metadata": {},
   "source": [
    "# Project 2.) Automated Webscraping"
   ]
  },
  {
   "cell_type": "markdown",
   "id": "d1d15867",
   "metadata": {},
   "source": [
    "### Description : Find a website that is scrapable with Beautiful soup that updates with some frequency. Build a cloud function to programatically scrape the useful content"
   ]
  },
  {
   "cell_type": "code",
   "execution_count": null,
   "id": "54324bc0",
   "metadata": {},
   "outputs": [],
   "source": []
  },
  {
   "cell_type": "markdown",
   "id": "504f3088",
   "metadata": {},
   "source": [
    "## 2.b.) Query your stored files"
   ]
  },
  {
   "cell_type": "code",
   "execution_count": null,
   "id": "260d933a",
   "metadata": {},
   "outputs": [],
   "source": []
  },
  {
   "cell_type": "markdown",
   "id": "368798b0",
   "metadata": {},
   "source": [
    "## 2.c.) State how this could be useful in a business setting"
   ]
  },
  {
   "cell_type": "code",
   "execution_count": null,
   "id": "84ff63e1",
   "metadata": {},
   "outputs": [],
   "source": []
  },
  {
   "cell_type": "code",
   "execution_count": null,
   "id": "8acff97e",
   "metadata": {},
   "outputs": [],
   "source": []
  },
  {
   "cell_type": "markdown",
   "id": "0ad1706f",
   "metadata": {},
   "source": [
    "# Project 3.) "
   ]
  },
  {
   "cell_type": "markdown",
   "id": "ad99a208",
   "metadata": {},
   "source": [
    "### Description : Build some machine learning model using scikit learn and make it queriable using cloud functions"
   ]
  },
  {
   "cell_type": "code",
   "execution_count": 42,
   "id": "5a199b5d",
   "metadata": {},
   "outputs": [],
   "source": [
    "import google"
   ]
  },
  {
   "cell_type": "code",
   "execution_count": 11,
   "id": "66827a73",
   "metadata": {},
   "outputs": [
    {
     "name": "stdout",
     "output_type": "stream",
     "text": [
      "Top features: ['pixel_2_5' 'pixel_4_4' 'pixel_5_3' 'pixel_3_2' 'pixel_5_2' 'pixel_2_4'\n",
      " 'pixel_7_5' 'pixel_3_4' 'pixel_3_3' 'pixel_1_2']\n",
      "Accuracy with top 10 features: 0.93\n"
     ]
    }
   ],
   "source": [
    "import pandas as pd\n",
    "from sklearn.ensemble import RandomForestClassifier\n",
    "from sklearn.model_selection import train_test_split\n",
    "from sklearn.datasets import load_digits\n",
    "from sklearn.metrics import accuracy_score\n",
    "\n",
    "data = load_digits()\n",
    "df = pd.DataFrame(data.data, columns=data.feature_names)\n",
    "df['target'] = data.target\n",
    "\n",
    "X = df.drop('target', axis=1)\n",
    "y = df['target']\n",
    "\n",
    "X_train, X_test, y_train, y_test = train_test_split(X, y, test_size=0.3, random_state=42)\n",
    "\n",
    "clf = RandomForestClassifier(n_estimators=100, random_state=42)\n",
    "\n",
    "clf.fit(X_train, y_train)\n",
    "\n",
    "feature_importances = clf.feature_importances_\n",
    "\n",
    "feature_importance_df = pd.DataFrame({'feature': X.columns, 'importance': feature_importances})\n",
    "\n",
    "feature_importance_df = feature_importance_df.sort_values(by='importance', ascending=False)\n",
    "\n",
    "top_n = 10  \n",
    "top_features = feature_importance_df['feature'].head(top_n).values\n",
    "\n",
    "print(f\"Top features: {top_features}\")\n",
    "\n",
    "X_top_train = X_train[top_features]\n",
    "X_top_test = X_test[top_features]\n",
    "\n",
    "clf_top = RandomForestClassifier(n_estimators=100, random_state=42)\n",
    "clf_top.fit(X_top_train, y_train)\n",
    "\n",
    "y_pred_top = clf_top.predict(X_top_test)\n",
    "accuracy_top = accuracy_score(y_test, y_pred_top)\n",
    "print(f'Accuracy with top {top_n} features: {accuracy_top:.2f}')\n"
   ]
  },
  {
   "cell_type": "code",
   "execution_count": 92,
   "id": "642e0218",
   "metadata": {},
   "outputs": [
    {
     "data": {
      "text/html": [
       "<div>\n",
       "<style scoped>\n",
       "    .dataframe tbody tr th:only-of-type {\n",
       "        vertical-align: middle;\n",
       "    }\n",
       "\n",
       "    .dataframe tbody tr th {\n",
       "        vertical-align: top;\n",
       "    }\n",
       "\n",
       "    .dataframe thead th {\n",
       "        text-align: right;\n",
       "    }\n",
       "</style>\n",
       "<table border=\"1\" class=\"dataframe\">\n",
       "  <thead>\n",
       "    <tr style=\"text-align: right;\">\n",
       "      <th></th>\n",
       "      <th>pixel_0_0</th>\n",
       "      <th>pixel_0_1</th>\n",
       "      <th>pixel_0_2</th>\n",
       "      <th>pixel_0_3</th>\n",
       "      <th>pixel_0_4</th>\n",
       "      <th>pixel_0_5</th>\n",
       "      <th>pixel_0_6</th>\n",
       "      <th>pixel_0_7</th>\n",
       "      <th>pixel_1_0</th>\n",
       "      <th>pixel_1_1</th>\n",
       "      <th>...</th>\n",
       "      <th>pixel_6_7</th>\n",
       "      <th>pixel_7_0</th>\n",
       "      <th>pixel_7_1</th>\n",
       "      <th>pixel_7_2</th>\n",
       "      <th>pixel_7_3</th>\n",
       "      <th>pixel_7_4</th>\n",
       "      <th>pixel_7_5</th>\n",
       "      <th>pixel_7_6</th>\n",
       "      <th>pixel_7_7</th>\n",
       "      <th>target</th>\n",
       "    </tr>\n",
       "  </thead>\n",
       "  <tbody>\n",
       "    <tr>\n",
       "      <th>0</th>\n",
       "      <td>0.0</td>\n",
       "      <td>0.0</td>\n",
       "      <td>5.0</td>\n",
       "      <td>13.0</td>\n",
       "      <td>9.0</td>\n",
       "      <td>1.0</td>\n",
       "      <td>0.0</td>\n",
       "      <td>0.0</td>\n",
       "      <td>0.0</td>\n",
       "      <td>0.0</td>\n",
       "      <td>...</td>\n",
       "      <td>0.0</td>\n",
       "      <td>0.0</td>\n",
       "      <td>0.0</td>\n",
       "      <td>6.0</td>\n",
       "      <td>13.0</td>\n",
       "      <td>10.0</td>\n",
       "      <td>0.0</td>\n",
       "      <td>0.0</td>\n",
       "      <td>0.0</td>\n",
       "      <td>0</td>\n",
       "    </tr>\n",
       "    <tr>\n",
       "      <th>1</th>\n",
       "      <td>0.0</td>\n",
       "      <td>0.0</td>\n",
       "      <td>0.0</td>\n",
       "      <td>12.0</td>\n",
       "      <td>13.0</td>\n",
       "      <td>5.0</td>\n",
       "      <td>0.0</td>\n",
       "      <td>0.0</td>\n",
       "      <td>0.0</td>\n",
       "      <td>0.0</td>\n",
       "      <td>...</td>\n",
       "      <td>0.0</td>\n",
       "      <td>0.0</td>\n",
       "      <td>0.0</td>\n",
       "      <td>0.0</td>\n",
       "      <td>11.0</td>\n",
       "      <td>16.0</td>\n",
       "      <td>10.0</td>\n",
       "      <td>0.0</td>\n",
       "      <td>0.0</td>\n",
       "      <td>1</td>\n",
       "    </tr>\n",
       "    <tr>\n",
       "      <th>2</th>\n",
       "      <td>0.0</td>\n",
       "      <td>0.0</td>\n",
       "      <td>0.0</td>\n",
       "      <td>4.0</td>\n",
       "      <td>15.0</td>\n",
       "      <td>12.0</td>\n",
       "      <td>0.0</td>\n",
       "      <td>0.0</td>\n",
       "      <td>0.0</td>\n",
       "      <td>0.0</td>\n",
       "      <td>...</td>\n",
       "      <td>0.0</td>\n",
       "      <td>0.0</td>\n",
       "      <td>0.0</td>\n",
       "      <td>0.0</td>\n",
       "      <td>3.0</td>\n",
       "      <td>11.0</td>\n",
       "      <td>16.0</td>\n",
       "      <td>9.0</td>\n",
       "      <td>0.0</td>\n",
       "      <td>2</td>\n",
       "    </tr>\n",
       "    <tr>\n",
       "      <th>3</th>\n",
       "      <td>0.0</td>\n",
       "      <td>0.0</td>\n",
       "      <td>7.0</td>\n",
       "      <td>15.0</td>\n",
       "      <td>13.0</td>\n",
       "      <td>1.0</td>\n",
       "      <td>0.0</td>\n",
       "      <td>0.0</td>\n",
       "      <td>0.0</td>\n",
       "      <td>8.0</td>\n",
       "      <td>...</td>\n",
       "      <td>0.0</td>\n",
       "      <td>0.0</td>\n",
       "      <td>0.0</td>\n",
       "      <td>7.0</td>\n",
       "      <td>13.0</td>\n",
       "      <td>13.0</td>\n",
       "      <td>9.0</td>\n",
       "      <td>0.0</td>\n",
       "      <td>0.0</td>\n",
       "      <td>3</td>\n",
       "    </tr>\n",
       "    <tr>\n",
       "      <th>4</th>\n",
       "      <td>0.0</td>\n",
       "      <td>0.0</td>\n",
       "      <td>0.0</td>\n",
       "      <td>1.0</td>\n",
       "      <td>11.0</td>\n",
       "      <td>0.0</td>\n",
       "      <td>0.0</td>\n",
       "      <td>0.0</td>\n",
       "      <td>0.0</td>\n",
       "      <td>0.0</td>\n",
       "      <td>...</td>\n",
       "      <td>0.0</td>\n",
       "      <td>0.0</td>\n",
       "      <td>0.0</td>\n",
       "      <td>0.0</td>\n",
       "      <td>2.0</td>\n",
       "      <td>16.0</td>\n",
       "      <td>4.0</td>\n",
       "      <td>0.0</td>\n",
       "      <td>0.0</td>\n",
       "      <td>4</td>\n",
       "    </tr>\n",
       "  </tbody>\n",
       "</table>\n",
       "<p>5 rows × 65 columns</p>\n",
       "</div>"
      ],
      "text/plain": [
       "   pixel_0_0  pixel_0_1  pixel_0_2  pixel_0_3  pixel_0_4  pixel_0_5  \\\n",
       "0        0.0        0.0        5.0       13.0        9.0        1.0   \n",
       "1        0.0        0.0        0.0       12.0       13.0        5.0   \n",
       "2        0.0        0.0        0.0        4.0       15.0       12.0   \n",
       "3        0.0        0.0        7.0       15.0       13.0        1.0   \n",
       "4        0.0        0.0        0.0        1.0       11.0        0.0   \n",
       "\n",
       "   pixel_0_6  pixel_0_7  pixel_1_0  pixel_1_1  ...  pixel_6_7  pixel_7_0  \\\n",
       "0        0.0        0.0        0.0        0.0  ...        0.0        0.0   \n",
       "1        0.0        0.0        0.0        0.0  ...        0.0        0.0   \n",
       "2        0.0        0.0        0.0        0.0  ...        0.0        0.0   \n",
       "3        0.0        0.0        0.0        8.0  ...        0.0        0.0   \n",
       "4        0.0        0.0        0.0        0.0  ...        0.0        0.0   \n",
       "\n",
       "   pixel_7_1  pixel_7_2  pixel_7_3  pixel_7_4  pixel_7_5  pixel_7_6  \\\n",
       "0        0.0        6.0       13.0       10.0        0.0        0.0   \n",
       "1        0.0        0.0       11.0       16.0       10.0        0.0   \n",
       "2        0.0        0.0        3.0       11.0       16.0        9.0   \n",
       "3        0.0        7.0       13.0       13.0        9.0        0.0   \n",
       "4        0.0        0.0        2.0       16.0        4.0        0.0   \n",
       "\n",
       "   pixel_7_7  target  \n",
       "0        0.0       0  \n",
       "1        0.0       1  \n",
       "2        0.0       2  \n",
       "3        0.0       3  \n",
       "4        0.0       4  \n",
       "\n",
       "[5 rows x 65 columns]"
      ]
     },
     "execution_count": 92,
     "metadata": {},
     "output_type": "execute_result"
    }
   ],
   "source": [
    "df.head()"
   ]
  },
  {
   "cell_type": "code",
   "execution_count": 120,
   "id": "825fd870",
   "metadata": {},
   "outputs": [],
   "source": [
    "bucket_name = \"digits_q3\""
   ]
  },
  {
   "cell_type": "code",
   "execution_count": 136,
   "id": "5cefdbc4",
   "metadata": {},
   "outputs": [],
   "source": [
    "from google.cloud import storage\n",
    "import os\n",
    "from io import StringIO\n",
    "import pandas as pd\n",
    "\n",
    "os.environ[\"GOOGLE_APPLICATION_CREDENTIALS\"] = \"cred keys.json\"\n"
   ]
  },
  {
   "cell_type": "code",
   "execution_count": 137,
   "id": "54481f49",
   "metadata": {},
   "outputs": [],
   "source": [
    "client = storage.Client()"
   ]
  },
  {
   "cell_type": "code",
   "execution_count": 138,
   "id": "f682af17",
   "metadata": {},
   "outputs": [
    {
     "data": {
      "text/plain": [
       "['RF.sav']"
      ]
     },
     "execution_count": 138,
     "metadata": {},
     "output_type": "execute_result"
    }
   ],
   "source": [
    "import joblib\n",
    "joblib.dump(clf_top, \"RF.sav\") "
   ]
  },
  {
   "cell_type": "code",
   "execution_count": 139,
   "id": "186d287b",
   "metadata": {},
   "outputs": [],
   "source": [
    "bucket = client.get_bucket(\"digits_q3\")\n",
    "blob = bucket.blob(\"digits/handwritten_numbers.sav\")\n",
    "blob.upload_from_filename(\"RF.sav\")"
   ]
  },
  {
   "cell_type": "code",
   "execution_count": 140,
   "id": "bbf8d92d",
   "metadata": {},
   "outputs": [],
   "source": [
    "from io import BytesIO "
   ]
  },
  {
   "cell_type": "code",
   "execution_count": 141,
   "id": "218761d9",
   "metadata": {},
   "outputs": [],
   "source": [
    "def load_rf_model(file_name):\n",
    "    bucket_name = \"digits_q3\"\n",
    "    source_blob = \"digits/\" + file_name\n",
    "    \n",
    "    os.environ[\"GOOGLE_APPLICATION_CREDENTIALS\"] = \"cred keys.json\"\n",
    "    client = storage.Client()\n",
    "    \n",
    "    bucket = client.get_bucket(bucket_name)\n",
    "    blob = bucket.blob(source_blob)\n",
    "    \n",
    "    model_data = blob.download_as_bytes()\n",
    "    \n",
    "    model = joblib.load(BytesIO(model_data))\n",
    "    return(model)"
   ]
  },
  {
   "cell_type": "code",
   "execution_count": 142,
   "id": "d6c976b2",
   "metadata": {},
   "outputs": [],
   "source": [
    "model = load_rf_model(\"handwritten_numbers.sav\")"
   ]
  },
  {
   "cell_type": "code",
   "execution_count": 143,
   "id": "a31b5724",
   "metadata": {},
   "outputs": [],
   "source": [
    "import warnings\n",
    "import numpy as np"
   ]
  },
  {
   "cell_type": "code",
   "execution_count": 144,
   "id": "d0a521ea",
   "metadata": {},
   "outputs": [],
   "source": [
    "def digits(request_dictionary):\n",
    "    try:\n",
    "        model = load_rf_model(\"handwritten_numbers.sav\")\n",
    "\n",
    "        with warnings.catch_warnings():\n",
    "            warnings.simplefilter(\"ignore\", UserWarning)\n",
    "            \n",
    "            dictionary = request_dictionary\n",
    "            input_values = [dictionary.get(key, 0) for key in top_features]\n",
    "\n",
    "            X = np.array([input_values])  \n",
    "    \n",
    "            prediction = model.predict(X)[0]\n",
    "            y_pred_top = model.predict(X_top_test)\n",
    "            accuracy = accuracy_score(y_test, y_pred_top)\n",
    "\n",
    "            return {\"prediction\": int(prediction), \"accuracy\": accuracy}\n",
    "    except Exception as e:\n",
    "        return {\"error\": str(e)}\n"
   ]
  },
  {
   "cell_type": "code",
   "execution_count": 145,
   "id": "173fa847",
   "metadata": {},
   "outputs": [
    {
     "data": {
      "text/plain": [
       "{'prediction': 4, 'accuracy': 0.9277777777777778}"
      ]
     },
     "execution_count": 145,
     "metadata": {},
     "output_type": "execute_result"
    }
   ],
   "source": [
    "digits({\n",
    "    \"pixel_2_5\": 1,  \n",
    "    \"pixel_4_4\": 15, \n",
    "    \"pixel_5_3\": 0,  \n",
    "    \"pixel_3_2\": 12,  \n",
    "    \"pixel_5_2\": 12,  \n",
    "    \"pixel_2_4\": 1, \n",
    "    \"pixel_7_5\": 4, \n",
    "    \"pixel_3_4\": 2, \n",
    "    \"pixel_3_3\": 1,  \n",
    "    \"pixel_1_2\": 9   \n",
    "})"
   ]
  },
  {
   "cell_type": "code",
   "execution_count": 153,
   "id": "72bcf4d0",
   "metadata": {},
   "outputs": [],
   "source": [
    "import google\n",
    "import joblib\n",
    "import pandas\n",
    "import requests\n",
    "import sklearn\n",
    "from urllib.parse import parse_qs\n",
    "from google.cloud import storage\n",
    "import os\n",
    "from io import StringIO\n",
    "from joblib import load\n",
    "from io import BytesIO\n"
   ]
  },
  {
   "cell_type": "code",
   "execution_count": null,
   "id": "f6893315",
   "metadata": {},
   "outputs": [],
   "source": [
    "#on cloud\n",
    "def load_rf_model(file_name):\n",
    "    bucket_name = \"digits_q3\"\n",
    "    source_blob = \"digits/\" + file_name\n",
    "    \n",
    "    os.environ[\"GOOGLE_APPLICATION_CREDENTIALS\"] = \"cred keys.json\"\n",
    "    client = storage.Client()\n",
    "    \n",
    "    bucket = client.get_bucket(bucket_name)\n",
    "    blob = bucket.blob(source_blob)\n",
    "    \n",
    "    model_data = blob.download_as_bytes()\n",
    "    \n",
    "    model = joblib.load(BytesIO(model_data))\n",
    "    return(model)\n",
    "\n",
    "def digits(request):\n",
    "    try:\n",
    "        model = load_rf_model(\"handwritten_numbers.sav\")\n",
    "\n",
    "        with warnings.catch_warnings():\n",
    "            warnings.simplefilter(\"ignore\", UserWarning)\n",
    "\n",
    "            print(request)\n",
    "            print(type(request))\n",
    "            print(dir(request))\n",
    "\n",
    "            q_str = request.get_data().decode()\n",
    "            print(q_str)\n",
    "            print(type(q_str))\n",
    "            \n",
    "            dictionary = request_dictionary\n",
    "            input_values = {k: v[0] for k, v in parse_qs(q_str).items()}\n",
    "\n",
    "            X = np.array([input_values])  \n",
    "    \n",
    "            prediction = model.predict(X)[0]\n",
    "            y_pred_top = model.predict(X_top_test)\n",
    "            accuracy = accuracy_score(y_test, y_pred_top)\n",
    "\n",
    "            return {\"prediction\": int(prediction), \"accuracy\": accuracy}\n",
    "    except Exception as e:\n",
    "        return {\"error\": str(e)}\n",
    "\n"
   ]
  },
  {
   "cell_type": "code",
   "execution_count": 162,
   "id": "816644bc",
   "metadata": {},
   "outputs": [
    {
     "ename": "JSONDecodeError",
     "evalue": "Extra data: line 1 column 5 (char 4)",
     "output_type": "error",
     "traceback": [
      "\u001b[0;31m---------------------------------------------------------------------------\u001b[0m",
      "\u001b[0;31mJSONDecodeError\u001b[0m                           Traceback (most recent call last)",
      "File \u001b[0;32m~/anaconda3/lib/python3.10/site-packages/requests/models.py:971\u001b[0m, in \u001b[0;36mResponse.json\u001b[0;34m(self, **kwargs)\u001b[0m\n\u001b[1;32m    970\u001b[0m \u001b[38;5;28;01mtry\u001b[39;00m:\n\u001b[0;32m--> 971\u001b[0m     \u001b[38;5;28;01mreturn\u001b[39;00m \u001b[43mcomplexjson\u001b[49m\u001b[38;5;241;43m.\u001b[39;49m\u001b[43mloads\u001b[49m\u001b[43m(\u001b[49m\u001b[38;5;28;43mself\u001b[39;49m\u001b[38;5;241;43m.\u001b[39;49m\u001b[43mtext\u001b[49m\u001b[43m,\u001b[49m\u001b[43m \u001b[49m\u001b[38;5;241;43m*\u001b[39;49m\u001b[38;5;241;43m*\u001b[39;49m\u001b[43mkwargs\u001b[49m\u001b[43m)\u001b[49m\n\u001b[1;32m    972\u001b[0m \u001b[38;5;28;01mexcept\u001b[39;00m JSONDecodeError \u001b[38;5;28;01mas\u001b[39;00m e:\n\u001b[1;32m    973\u001b[0m     \u001b[38;5;66;03m# Catch JSON-related errors and raise as requests.JSONDecodeError\u001b[39;00m\n\u001b[1;32m    974\u001b[0m     \u001b[38;5;66;03m# This aliases json.JSONDecodeError and simplejson.JSONDecodeError\u001b[39;00m\n",
      "File \u001b[0;32m~/anaconda3/lib/python3.10/json/__init__.py:346\u001b[0m, in \u001b[0;36mloads\u001b[0;34m(s, cls, object_hook, parse_float, parse_int, parse_constant, object_pairs_hook, **kw)\u001b[0m\n\u001b[1;32m    343\u001b[0m \u001b[38;5;28;01mif\u001b[39;00m (\u001b[38;5;28mcls\u001b[39m \u001b[38;5;129;01mis\u001b[39;00m \u001b[38;5;28;01mNone\u001b[39;00m \u001b[38;5;129;01mand\u001b[39;00m object_hook \u001b[38;5;129;01mis\u001b[39;00m \u001b[38;5;28;01mNone\u001b[39;00m \u001b[38;5;129;01mand\u001b[39;00m\n\u001b[1;32m    344\u001b[0m         parse_int \u001b[38;5;129;01mis\u001b[39;00m \u001b[38;5;28;01mNone\u001b[39;00m \u001b[38;5;129;01mand\u001b[39;00m parse_float \u001b[38;5;129;01mis\u001b[39;00m \u001b[38;5;28;01mNone\u001b[39;00m \u001b[38;5;129;01mand\u001b[39;00m\n\u001b[1;32m    345\u001b[0m         parse_constant \u001b[38;5;129;01mis\u001b[39;00m \u001b[38;5;28;01mNone\u001b[39;00m \u001b[38;5;129;01mand\u001b[39;00m object_pairs_hook \u001b[38;5;129;01mis\u001b[39;00m \u001b[38;5;28;01mNone\u001b[39;00m \u001b[38;5;129;01mand\u001b[39;00m \u001b[38;5;129;01mnot\u001b[39;00m kw):\n\u001b[0;32m--> 346\u001b[0m     \u001b[38;5;28;01mreturn\u001b[39;00m \u001b[43m_default_decoder\u001b[49m\u001b[38;5;241;43m.\u001b[39;49m\u001b[43mdecode\u001b[49m\u001b[43m(\u001b[49m\u001b[43ms\u001b[49m\u001b[43m)\u001b[49m\n\u001b[1;32m    347\u001b[0m \u001b[38;5;28;01mif\u001b[39;00m \u001b[38;5;28mcls\u001b[39m \u001b[38;5;129;01mis\u001b[39;00m \u001b[38;5;28;01mNone\u001b[39;00m:\n",
      "File \u001b[0;32m~/anaconda3/lib/python3.10/json/decoder.py:340\u001b[0m, in \u001b[0;36mJSONDecoder.decode\u001b[0;34m(self, s, _w)\u001b[0m\n\u001b[1;32m    339\u001b[0m \u001b[38;5;28;01mif\u001b[39;00m end \u001b[38;5;241m!=\u001b[39m \u001b[38;5;28mlen\u001b[39m(s):\n\u001b[0;32m--> 340\u001b[0m     \u001b[38;5;28;01mraise\u001b[39;00m JSONDecodeError(\u001b[38;5;124m\"\u001b[39m\u001b[38;5;124mExtra data\u001b[39m\u001b[38;5;124m\"\u001b[39m, s, end)\n\u001b[1;32m    341\u001b[0m \u001b[38;5;28;01mreturn\u001b[39;00m obj\n",
      "\u001b[0;31mJSONDecodeError\u001b[0m: Extra data: line 1 column 5 (char 4)",
      "\nDuring handling of the above exception, another exception occurred:\n",
      "\u001b[0;31mJSONDecodeError\u001b[0m                           Traceback (most recent call last)",
      "Cell \u001b[0;32mIn[162], line 20\u001b[0m\n\u001b[1;32m     17\u001b[0m headers \u001b[38;5;241m=\u001b[39m {\u001b[38;5;124m'\u001b[39m\u001b[38;5;124mContent-Type\u001b[39m\u001b[38;5;124m'\u001b[39m: \u001b[38;5;124m'\u001b[39m\u001b[38;5;124mapplication/json\u001b[39m\u001b[38;5;124m'\u001b[39m}\n\u001b[1;32m     19\u001b[0m response \u001b[38;5;241m=\u001b[39m requests\u001b[38;5;241m.\u001b[39mpost(url, headers\u001b[38;5;241m=\u001b[39mheaders, data\u001b[38;5;241m=\u001b[39mjson\u001b[38;5;241m.\u001b[39mdumps(data))\n\u001b[0;32m---> 20\u001b[0m \u001b[38;5;28mprint\u001b[39m(\u001b[43mresponse\u001b[49m\u001b[38;5;241;43m.\u001b[39;49m\u001b[43mjson\u001b[49m\u001b[43m(\u001b[49m\u001b[43m)\u001b[49m)\n",
      "File \u001b[0;32m~/anaconda3/lib/python3.10/site-packages/requests/models.py:975\u001b[0m, in \u001b[0;36mResponse.json\u001b[0;34m(self, **kwargs)\u001b[0m\n\u001b[1;32m    971\u001b[0m     \u001b[38;5;28;01mreturn\u001b[39;00m complexjson\u001b[38;5;241m.\u001b[39mloads(\u001b[38;5;28mself\u001b[39m\u001b[38;5;241m.\u001b[39mtext, \u001b[38;5;241m*\u001b[39m\u001b[38;5;241m*\u001b[39mkwargs)\n\u001b[1;32m    972\u001b[0m \u001b[38;5;28;01mexcept\u001b[39;00m JSONDecodeError \u001b[38;5;28;01mas\u001b[39;00m e:\n\u001b[1;32m    973\u001b[0m     \u001b[38;5;66;03m# Catch JSON-related errors and raise as requests.JSONDecodeError\u001b[39;00m\n\u001b[1;32m    974\u001b[0m     \u001b[38;5;66;03m# This aliases json.JSONDecodeError and simplejson.JSONDecodeError\u001b[39;00m\n\u001b[0;32m--> 975\u001b[0m     \u001b[38;5;28;01mraise\u001b[39;00m RequestsJSONDecodeError(e\u001b[38;5;241m.\u001b[39mmsg, e\u001b[38;5;241m.\u001b[39mdoc, e\u001b[38;5;241m.\u001b[39mpos)\n",
      "\u001b[0;31mJSONDecodeError\u001b[0m: Extra data: line 1 column 5 (char 4)"
     ]
    }
   ],
   "source": [
    "import requests\n",
    "import json\n",
    "\n",
    "url = \"https://us-central1-cloud-automation-424717.cloudfunctions.net/Q3\"\n",
    "data = {\n",
    "    \"pixel_2_5\": 1,  \n",
    "    \"pixel_4_4\": 15, \n",
    "    \"pixel_5_3\": 0,  \n",
    "    \"pixel_3_2\": 12,  \n",
    "    \"pixel_5_2\": 12,  \n",
    "    \"pixel_2_4\": 1, \n",
    "    \"pixel_7_5\": 4, \n",
    "    \"pixel_3_4\": 2, \n",
    "    \"pixel_3_3\": 1,  \n",
    "    \"pixel_1_2\": 9   \n",
    "}\n",
    "headers = {'Content-Type': 'application/json'}\n",
    "\n",
    "response = requests.post(url, headers=headers, data=json.dumps(data))\n",
    "print(response.json())\n"
   ]
  }
 ],
 "metadata": {
  "kernelspec": {
   "display_name": "Python 3 (ipykernel)",
   "language": "python",
   "name": "python3"
  },
  "language_info": {
   "codemirror_mode": {
    "name": "ipython",
    "version": 3
   },
   "file_extension": ".py",
   "mimetype": "text/x-python",
   "name": "python",
   "nbconvert_exporter": "python",
   "pygments_lexer": "ipython3",
   "version": "3.10.9"
  }
 },
 "nbformat": 4,
 "nbformat_minor": 5
}
